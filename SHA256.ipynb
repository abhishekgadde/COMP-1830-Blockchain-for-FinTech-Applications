{
 "cells": [
  {
   "cell_type": "code",
   "execution_count": 1,
   "metadata": {},
   "outputs": [
    {
     "name": "stdout",
     "output_type": "stream",
     "text": [
      "5b34b3beae878ab0d5c75e184079b256c4cc74fa29fefb85fdfb6c18b87e5e7e\n"
     ]
    }
   ],
   "source": [
    "from hashlib import sha256\n",
    "data = \"<COMP1830-Blockchain for Fintech>\"\n",
    "h = sha256()\n",
    "h.update(data.encode())\n",
    "print(h.hexdigest())"
   ]
  },
  {
   "cell_type": "code",
   "execution_count": 3,
   "metadata": {},
   "outputs": [
    {
     "name": "stdout",
     "output_type": "stream",
     "text": [
      "c53ca692e6ef0395362a106851bf30cf9a5bf696e0610d8ec47f9b4fd5d9f5a2\n"
     ]
    }
   ],
   "source": [
    "from hashlib import sha256\n",
    "data = \"<COMP1830-Blockchain for Fintech!>\"\n",
    "h = sha256()\n",
    "h.update(data.encode())\n",
    "print(h.hexdigest())"
   ]
  }
 ],
 "metadata": {
  "interpreter": {
   "hash": "31f2aee4e71d21fbe5cf8b01ff0e069b9275f58929596ceb00d14d90e3e16cd6"
  },
  "kernelspec": {
   "display_name": "Python 3.8.5 64-bit",
   "language": "python",
   "name": "python3"
  },
  "language_info": {
   "codemirror_mode": {
    "name": "ipython",
    "version": 3
   },
   "file_extension": ".py",
   "mimetype": "text/x-python",
   "name": "python",
   "nbconvert_exporter": "python",
   "pygments_lexer": "ipython3",
   "version": "3.8.5"
  },
  "orig_nbformat": 4
 },
 "nbformat": 4,
 "nbformat_minor": 2
}
